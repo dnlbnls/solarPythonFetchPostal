{
 "cells": [
  {
   "cell_type": "code",
   "execution_count": 1,
   "metadata": {},
   "outputs": [],
   "source": [
    "import json\n",
    "import requests\n",
    "import pandas as pd\n",
    "import csv\n",
    "import time\n",
    "import sqlite3\n",
    "import folium"
   ]
  },
  {
   "cell_type": "code",
   "execution_count": 2,
   "metadata": {},
   "outputs": [
    {
     "data": {
      "text/plain": [
       "0        20310 : Aguascalientes :  : Aguascalientes\n",
       "1        20313 : Aguascalientes :  : Aguascalientes\n",
       "2        20314 : Aguascalientes :  : Aguascalientes\n",
       "3        20316 : Aguascalientes :  : Aguascalientes\n",
       "4        20320 : Aguascalientes :  : Aguascalientes\n",
       "                            ...                    \n",
       "31170     98089 : Zacatecas : Zacatecas : Zacatecas\n",
       "31171     98090 : Zacatecas : Zacatecas : Zacatecas\n",
       "31172     98097 : Zacatecas : Zacatecas : Zacatecas\n",
       "31173     98098 : Zacatecas : Zacatecas : Zacatecas\n",
       "31174     98099 : Zacatecas : Zacatecas : Zacatecas\n",
       "Name: tooltip, Length: 31175, dtype: object"
      ]
     },
     "execution_count": 2,
     "metadata": {},
     "output_type": "execute_result"
    }
   ],
   "source": [
    "# Load the data to a dataframe\n",
    "# Conectarse a la base de datos y cargar la tabla de codigos postales que todavia no han sido procesados en un dataframe\n",
    "conn = sqlite3.connect('postalCodesLonLatMapboxQuery.sqlite3')\n",
    "query = \"SELECT * FROM postalMapBoxQuery WHERE response_features_0_center_latitude != '' AND response_features_0_center_longitude != '' ORDER BY estado ASC, ciudad ASC, municipio ASC\"\n",
    "df = pd.read_sql(query, conn)\n",
    "conn.close()\n",
    "\n",
    "df = df.fillna('')\n",
    "df[\"tooltip\"] = df[\"codigoPostal\"] + ' : ' + df[\"municipio\"] + ' : ' + df[\"ciudad\"]  + ' : ' + df[\"estadoNombreCorto\"]\n",
    "df[\"tooltip\"]"
   ]
  },
  {
   "cell_type": "code",
   "execution_count": 3,
   "metadata": {},
   "outputs": [],
   "source": [
    "# postal_codes_location = df[[\"response_features_0_center_latitude\", \"response_features_0_center_longitude\", \"tooltip\"]]\n",
    "# postal_codes_location"
   ]
  },
  {
   "cell_type": "code",
   "execution_count": 4,
   "metadata": {},
   "outputs": [],
   "source": [
    "# postal_codes_location.iloc[0:5]\n",
    "# df.loc[df['estado'] == 'Sinaloa']\n",
    "# for estado in df[\"estado\"].unique():\n",
    "#   print(df.loc[df['estado'] == estado])"
   ]
  },
  {
   "cell_type": "code",
   "execution_count": 6,
   "metadata": {},
   "outputs": [],
   "source": [
    "\n",
    "\n",
    "\n",
    "for estado in df[\"estadoNombreCorto\"].unique():\n",
    "  m = folium.Map( location= (19.419444, -99.145556), zoom_start=5)\n",
    "  for index, row in df.loc[df['estadoNombreCorto'] == estado].iterrows():\n",
    "    folium.Marker([row[\"response_features_0_center_latitude\"], row[\"response_features_0_center_longitude\"]], popup=row[\"tooltip\"]).add_to(m)\n",
    "  m.save(f\"./maps/index.{estado}.html\")\n",
    "\n",
    "# for index, row in postal_codes_location.iloc[0:1000].iterrows():\n",
    "\n",
    "# folium.Marker([24.82, -107.38], popup=\"<i>80060</i>\").add_to(m)\n",
    "\n",
    "\n"
   ]
  }
 ],
 "metadata": {
  "kernelspec": {
   "display_name": "Python 3",
   "language": "python",
   "name": "python3"
  },
  "language_info": {
   "codemirror_mode": {
    "name": "ipython",
    "version": 3
   },
   "file_extension": ".py",
   "mimetype": "text/x-python",
   "name": "python",
   "nbconvert_exporter": "python",
   "pygments_lexer": "ipython3",
   "version": "3.10.4"
  },
  "orig_nbformat": 4
 },
 "nbformat": 4,
 "nbformat_minor": 2
}
