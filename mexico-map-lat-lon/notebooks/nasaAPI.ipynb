{
 "cells": [
  {
   "cell_type": "code",
   "execution_count": 1,
   "metadata": {},
   "outputs": [],
   "source": [
    "import json\n",
    "import requests\n",
    "import pandas as pd\n",
    "import csv\n",
    "import time\n",
    "import sqlite3"
   ]
  },
  {
   "cell_type": "code",
   "execution_count": 6,
   "metadata": {},
   "outputs": [
    {
     "name": "stdout",
     "output_type": "stream",
     "text": [
      "OK: 200\n"
     ]
    }
   ],
   "source": [
    "longitude = -107.3846\n",
    "latitude = 24.8433\n",
    "\n",
    "params = {\n",
    "    'longitude': -107.3846,\n",
    "    'latitude': 24.8433\n",
    "}\n",
    "\n",
    "headers = {\n",
    "    'Accept': 'application/json'\n",
    "}\n",
    "\n",
    "params = {k: v for k, v in params.items() if v is not None}\n",
    "url = f\"https://power.larc.nasa.gov/api/temporal/climatology/point?parameters=SI_EF_TILTED_SURFACE,T2M_MAX,T2M_MIN,EQUIV_NO_SUN_CONSEC_MONTH,T2M&community=RE&longitude={longitude}&latitude={latitude}&format=JSON\"\n",
    "\n",
    "try:\n",
    "  response = requests.get(url, params=params, headers=headers)\n",
    "  if response.status_code == 200:\n",
    "    print (f\"OK: {response.status_code}\")\n",
    "    # return response\n",
    "  elif response.status_code == 401:\n",
    "    print (f\"Unauthorized - check your access token: {response.status_code}\")\n",
    "    # return response\n",
    "  elif response.status_code == 403:\n",
    "    print (f\"Forbidden - access token may not have proper permissions: {response.status_code}\")\n",
    "    # return response\n",
    "  elif response.status_code == 404:\n",
    "    print (f\"Location not found: {response.status_code}\")\n",
    "    # return response\n",
    "  elif response.status_code == 429:\n",
    "    print (f\"Too many requests - rate limit exceeded: {response.status_code}\")\n",
    "    # return response\n",
    "  elif response.status_code > 429:\n",
    "    print(f\"Your request has failed with status code: {response.status_code}\")\n",
    "    # return response\n",
    "  else:\n",
    "    print(\"ELSEEEE\")\n",
    "    # response.raise_for_status()\n",
    "    # return response\n",
    "except requests.exceptions.ConnectionError as error:\n",
    "  print (f\"Request error: {error}\")\n",
    "  # return\n",
    "\n"
   ]
  },
  {
   "cell_type": "code",
   "execution_count": 10,
   "metadata": {},
   "outputs": [
    {
     "name": "stdout",
     "output_type": "stream",
     "text": [
      "200\n",
      "{\"type\":\"Feature\",\"geometry\":{\"type\":\"Point\",\"coordinates\":[-107.3846,24.8433,208.36]},\"properties\":{\"parameter\":{\"T2M\":{\"JAN\":20.26,\"FEB\":21.12,\"MAR\":23.25,\"APR\":25.7,\"MAY\":28.41,\"JUN\":30.3,\"JUL\":28.83,\"AUG\":28.08,\"SEP\":27.23,\"OCT\":26.35,\"NOV\":23.46,\"DEC\":20.22,\"ANN\":25.28},\"T2M_MAX\":{\"JAN\":36.72,\"FEB\":37.88,\"MAR\":39.97,\"APR\":43.63,\"MAY\":43.11,\"JUN\":45.87,\"JUL\":42.43,\"AUG\":38.92,\"SEP\":38.39,\"OCT\":38.08,\"NOV\":38.73,\"DEC\":35.53,\"ANN\":45.87},\"T2M_MIN\":{\"JAN\":5.94,\"FEB\":3.69,\"MAR\":8.94,\"APR\":13.35,\"MAY\":14.69,\"JUN\":19.18,\"JUL\":22.08,\"AUG\":21.98,\"SEP\":18.96,\"OCT\":14.8,\"NOV\":10.36,\"DEC\":5.11,\"ANN\":3.69},\"EQUIV_NO_SUN_CONSEC_MONTH\":{\"JAN\":4.79,\"FEB\":4.75,\"MAR\":4.07,\"APR\":4.67,\"MAY\":3.14,\"JUN\":2.32,\"JUL\":2.14,\"AUG\":1.87,\"SEP\":2.05,\"OCT\":2.85,\"NOV\":5.26,\"DEC\":4.11,\"ANN\":-999.0},\"SI_EF_TILTED_SURFACE_HORIZONTAL\":{\"JAN\":4.24,\"FEB\":5.25,\"MAR\":6.41,\"APR\":7.11,\"MAY\":7.6,\"JUN\":7.11,\"JUL\":6.28,\"AUG\":5.84,\"SEP\":5.45,\"OCT\":5.46,\"NOV\":4.58,\"DEC\":4.06,\"ANN\":-999.0},\"SI_EF_TILTED_SURFACE_LAT_MINUS15\":{\"JAN\":4.82,\"FEB\":5.79,\"MAR\":6.78,\"APR\":7.22,\"MAY\":7.45,\"JUN\":6.88,\"JUL\":6.14,\"AUG\":5.84,\"SEP\":5.61,\"OCT\":5.94,\"NOV\":5.19,\"DEC\":4.68,\"ANN\":-999.0},\"SI_EF_TILTED_SURFACE_LATITUDE\":{\"JAN\":5.46,\"FEB\":6.32,\"MAR\":7.01,\"APR\":7.05,\"MAY\":6.88,\"JUN\":6.24,\"JUL\":5.66,\"AUG\":5.6,\"SEP\":5.62,\"OCT\":6.37,\"NOV\":5.85,\"DEC\":5.38,\"ANN\":-999.0},\"SI_EF_TILTED_SURFACE_LAT_PLUS15\":{\"JAN\":5.78,\"FEB\":6.48,\"MAR\":6.83,\"APR\":6.49,\"MAY\":6.01,\"JUN\":5.35,\"JUL\":4.96,\"AUG\":5.07,\"SEP\":5.33,\"OCT\":6.43,\"NOV\":6.17,\"DEC\":5.77,\"ANN\":-999.0},\"SI_EF_TILTED_SURFACE_VERTICAL\":{\"JAN\":4.49,\"FEB\":4.46,\"MAR\":3.72,\"APR\":2.5,\"MAY\":1.63,\"JUN\":1.47,\"JUL\":1.62,\"AUG\":1.93,\"SEP\":2.63,\"OCT\":4.08,\"NOV\":4.61,\"DEC\":4.63,\"ANN\":-999.0},\"SI_EF_TILTED_SURFACE_OPTIMAL\":{\"JAN\":5.82,\"FEB\":6.48,\"MAR\":7.01,\"APR\":7.22,\"MAY\":7.6,\"JUN\":7.16,\"JUL\":6.3,\"AUG\":5.86,\"SEP\":5.65,\"OCT\":6.45,\"NOV\":6.19,\"DEC\":5.84,\"ANN\":-999.0},\"SI_EF_TILTED_SURFACE_OPTIMAL_ANG\":{\"JAN\":45.5,\"FEB\":36.5,\"MAR\":25.0,\"APR\":8.0,\"MAY\":-5.5,\"JUN\":-10.0,\"JUL\":-7.0,\"AUG\":4.0,\"SEP\":14.5,\"OCT\":33.0,\"NOV\":43.0,\"DEC\":47.5,\"ANN\":-999.0},\"SI_EF_TILTED_SURFACE_OPTIMAL_ANG_ORT\":{\"JAN\":\"S\",\"FEB\":\"S\",\"MAR\":\"S\",\"APR\":\"S\",\"MAY\":\"N\",\"JUN\":\"N\",\"JUL\":\"N\",\"AUG\":\"S\",\"SEP\":\"S\",\"OCT\":\"S\",\"NOV\":\"S\",\"DEC\":\"S\",\"ANN\":\"\"}}},\"header\":{\"title\":\"NASA/POWER CERES/MERRA2 Native Resolution Climatology Climatologies\",\"api\":{\"version\":\"v2.4.5\",\"name\":\"POWER Climatology API\"},\"sources\":[\"power\",\"merra2\"],\"fill_value\":-999.0,\"range\":\"20-year Meteorological and Solar Monthly & Annual Climatologies (January 2001 - December 2020)\"},\"messages\":[\"The Battery Sizing parameters are computed for January 2001 to December 2020 not a custom climatological period; the parameters are EQUIV_NO_SUN_CONSEC_MONTH\"],\"parameters\":{\"T2M\":{\"units\":\"C\",\"longname\":\"Temperature at 2 Meters\"},\"T2M_MAX\":{\"units\":\"C\",\"longname\":\"Temperature at 2 Meters Maximum\"},\"T2M_MIN\":{\"units\":\"C\",\"longname\":\"Temperature at 2 Meters Minimum\"},\"EQUIV_NO_SUN_CONSEC_MONTH\":{\"units\":\"Days\",\"longname\":\"Equivalent No-Sun Days Over A Month Period\"},\"SI_EF_TILTED_SURFACE_HORIZONTAL\":{\"units\":\"kW-hr/m^2/day\",\"longname\":\"Solar Irradiance for Equator Facing Horizontal Surface\"},\"SI_EF_TILTED_SURFACE_LAT_MINUS15\":{\"units\":\"kW-hr/m^2/day\",\"longname\":\"Solar Irradiance for Equator Facing Latitude Minus 15 Tilt\"},\"SI_EF_TILTED_SURFACE_LATITUDE\":{\"units\":\"kW-hr/m^2/day\",\"longname\":\"Solar Irradiance for Equator Facing Latitude Tilt\"},\"SI_EF_TILTED_SURFACE_LAT_PLUS15\":{\"units\":\"kW-hr/m^2/day\",\"longname\":\"Solar Irradiance for Equator Facing Latitude Plus 15 Tilt\"},\"SI_EF_TILTED_SURFACE_VERTICAL\":{\"units\":\"kW-hr/m^2/day\",\"longname\":\"Solar Irradiance for Equator Facing Vertical Surface\"},\"SI_EF_TILTED_SURFACE_OPTIMAL\":{\"units\":\"kW-hr/m^2/day\",\"longname\":\"Solar Irradiance Optimal\"},\"SI_EF_TILTED_SURFACE_OPTIMAL_ANG\":{\"units\":\"Degrees\",\"longname\":\"Solar Irradiance Optimal Angle\"},\"SI_EF_TILTED_SURFACE_OPTIMAL_ANG_ORT\":{\"units\":\"N/S Orientation\",\"longname\":\"Solar Irradiance Tilted Surface Orientation\"}},\"times\":{\"data\":13.377,\"process\":4.1}}\n",
      "OK\n"
     ]
    }
   ],
   "source": [
    "print(response.status_code)\n",
    "print(response.text)\n",
    "print(response.reason)"
   ]
  },
  {
   "cell_type": "code",
   "execution_count": 30,
   "metadata": {},
   "outputs": [
    {
     "name": "stdout",
     "output_type": "stream",
     "text": [
      "    codigoPostal                              variable dimension value_type  \\\n",
      "136        80060      SI_EF_TILTED_SURFACE_OPTIMAL_ANG       JUL    numeric   \n",
      "137        80060      SI_EF_TILTED_SURFACE_OPTIMAL_ANG       AUG    numeric   \n",
      "138        80060      SI_EF_TILTED_SURFACE_OPTIMAL_ANG       SEP    numeric   \n",
      "139        80060      SI_EF_TILTED_SURFACE_OPTIMAL_ANG       OCT    numeric   \n",
      "140        80060      SI_EF_TILTED_SURFACE_OPTIMAL_ANG       NOV    numeric   \n",
      "141        80060      SI_EF_TILTED_SURFACE_OPTIMAL_ANG       DEC    numeric   \n",
      "142        80060      SI_EF_TILTED_SURFACE_OPTIMAL_ANG       ANN    numeric   \n",
      "143        80060  SI_EF_TILTED_SURFACE_OPTIMAL_ANG_ORT       JAN    string    \n",
      "144        80060  SI_EF_TILTED_SURFACE_OPTIMAL_ANG_ORT       FEB    string    \n",
      "145        80060  SI_EF_TILTED_SURFACE_OPTIMAL_ANG_ORT       MAR    string    \n",
      "146        80060  SI_EF_TILTED_SURFACE_OPTIMAL_ANG_ORT       APR    string    \n",
      "147        80060  SI_EF_TILTED_SURFACE_OPTIMAL_ANG_ORT       MAY    string    \n",
      "148        80060  SI_EF_TILTED_SURFACE_OPTIMAL_ANG_ORT       JUN    string    \n",
      "149        80060  SI_EF_TILTED_SURFACE_OPTIMAL_ANG_ORT       JUL    string    \n",
      "150        80060  SI_EF_TILTED_SURFACE_OPTIMAL_ANG_ORT       AUG    string    \n",
      "151        80060  SI_EF_TILTED_SURFACE_OPTIMAL_ANG_ORT       SEP    string    \n",
      "152        80060  SI_EF_TILTED_SURFACE_OPTIMAL_ANG_ORT       OCT    string    \n",
      "153        80060  SI_EF_TILTED_SURFACE_OPTIMAL_ANG_ORT       NOV    string    \n",
      "154        80060  SI_EF_TILTED_SURFACE_OPTIMAL_ANG_ORT       DEC    string    \n",
      "155        80060  SI_EF_TILTED_SURFACE_OPTIMAL_ANG_ORT       ANN    string    \n",
      "\n",
      "     numeric_value string_value  \n",
      "136           -7.0         None  \n",
      "137            4.0         None  \n",
      "138           14.5         None  \n",
      "139           33.0         None  \n",
      "140           43.0         None  \n",
      "141           47.5         None  \n",
      "142         -999.0         None  \n",
      "143            NaN            S  \n",
      "144            NaN            S  \n",
      "145            NaN            S  \n",
      "146            NaN            S  \n",
      "147            NaN            N  \n",
      "148            NaN            N  \n",
      "149            NaN            N  \n",
      "150            NaN            S  \n",
      "151            NaN            S  \n",
      "152            NaN            S  \n",
      "153            NaN            S  \n",
      "154            NaN            S  \n",
      "155            NaN               \n"
     ]
    },
    {
     "ename": "",
     "evalue": "",
     "output_type": "error",
     "traceback": [
      "\u001b[1;31mThe Kernel crashed while executing code in the the current cell or a previous cell. Please review the code in the cell(s) to identify a possible cause of the failure. Click <a href='https://aka.ms/vscodeJupyterKernelCrash'>here</a> for more info. View Jupyter <a href='command:jupyter.viewOutput'>log</a> for further details."
     ]
    }
   ],
   "source": [
    "res = json.loads(response.text)\n",
    "df2 = pd.DataFrame({'codigoPostal': pd.Series(dtype='str'), 'variable': pd.Series(dtype='str'), 'dimension': pd.Series(dtype='str'), 'value_type': pd.Series(dtype='str'), 'numeric_value': pd.Series(dtype='float'), 'string_value': pd.Series(dtype='str')})\n",
    "\n",
    "# df2.loc[len(df2)] = ['a','b','c','d',-40.32,'f']\n",
    "postalCode = '80060'\n",
    "\n",
    "if \"properties\" in res:\n",
    "  if \"parameter\" in res[\"properties\"]:\n",
    "    for key, value in res[\"properties\"][\"parameter\"].items():\n",
    "      for dimension, value in value.items():\n",
    "        lst = []\n",
    "        lst.append(postalCode)\n",
    "        lst.append(key)\n",
    "        lst.append(dimension)\n",
    "        lst.append(\"numeric\" if isinstance(value, (int, float)) else (\"string \" if isinstance(value, str) else \"ND\" ) )\n",
    "        lst.append(value if isinstance(value, (int, float)) else None)\n",
    "        lst.append(value if isinstance(value, str) else None)\n",
    "        df2.loc[len(df2)] = lst\n",
    "\n",
    "\n",
    "print(df2.tail(20))\n",
    "df2.to_csv(\"res.csv\")"
   ]
  }
 ],
 "metadata": {
  "kernelspec": {
   "display_name": "Python 3",
   "language": "python",
   "name": "python3"
  },
  "language_info": {
   "codemirror_mode": {
    "name": "ipython",
    "version": 3
   },
   "file_extension": ".py",
   "mimetype": "text/x-python",
   "name": "python",
   "nbconvert_exporter": "python",
   "pygments_lexer": "ipython3",
   "version": "3.10.4"
  },
  "orig_nbformat": 4
 },
 "nbformat": 4,
 "nbformat_minor": 2
}
